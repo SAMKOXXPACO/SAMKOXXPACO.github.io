{
 "cells": [
  {
   "cell_type": "code",
   "execution_count": null,
   "metadata": {},
   "outputs": [],
   "source": [
    "\n",
    "## How it works\n",
    "#1. Importing needed libraries and generate the output video\n",
    "\n",
    "#2. Recording and caching the background for each frame.\n",
    "\n",
    "#3. detecting the red portion in each frame\n",
    "\n",
    "#4. Replacing the red portion with a mask image in each frame\n",
    "\n",
    "#5. Producing the surprising output"
   ]
  },
  {
   "cell_type": "code",
   "execution_count": 4,
   "metadata": {},
   "outputs": [],
   "source": [
    "\n",
    "#Importing libraries\n",
    "import numpy as np\n",
    "import cv2\n",
    "import time"
   ]
  },
  {
   "cell_type": "code",
   "execution_count": null,
   "metadata": {},
   "outputs": [],
   "source": [
    "#Recording and caching the background for each frame.\n",
    "\n",
    "\n",
    "cap=cv2.VideoCapture(0)#Read from the web cam\n",
    "\n",
    "time.sleep(3) #for the system to sleep for 3 second before the webcam starts\n",
    "for i in range(30):\n",
    "    retval,back=cap.read()\n",
    "back=np.flip(back,axis=1)\n",
    "cap=cv2.VideoCapture(0)  \n",
    "\n",
    "\n",
    "\n",
    "## detecting the red portion In each frame\n",
    "\n",
    "\n",
    "while (cap.isOpened()):  ##Read every Frame from the webcam, until the camera is open \n",
    "    ret,img=cap.read()\n",
    "    if ret:\n",
    "        img=np.flip(img,axis=1)\n",
    "        \n",
    "        ##convert the color space from BGR to HSV\n",
    "        hsv=cv2.cvtColor(img,cv2.COLOR_BGR2HSV)\n",
    "        \n",
    "        ##Generat masks to detect red color\n",
    "        lower_red = np.array([0,120,70])\n",
    "        upper_red = np.array([10,255,255])\n",
    "        mask1 = cv2.inRange(hsv,lower_red,upper_red)\n",
    "        \n",
    "        lower_red = np.array([170,120,70])\n",
    "        upper_red = np.array([180,255,255])\n",
    "        mask2 = cv2.inRange(hsv,lower_red,upper_red)\n",
    "        mask1+=mask2\n",
    "        \n",
    "        ###Replacing the red portion with a mask image in each frame\n",
    "\n",
    "        mask = cv2.morphologyEx(mask1, cv2.MORPH_OPEN, np.ones((5,5),np.uint8))\n",
    "        img[np.where(mask==255)]=back[np.where(mask==255)]\n",
    "        \n",
    "         #Final output\n",
    "        cv2.imshow(\"Harry Potter's invisible secret revealed\",img)\n",
    "    key = cv2.waitKey(1)\n",
    "    if key==ord(\"q\"):\n",
    "        break\n",
    "cap.release()\n",
    "cv2.destroyAllWindows()"
   ]
  },
  {
   "cell_type": "code",
   "execution_count": null,
   "metadata": {},
   "outputs": [],
   "source": []
  },
  {
   "cell_type": "code",
   "execution_count": null,
   "metadata": {},
   "outputs": [],
   "source": []
  },
  {
   "cell_type": "code",
   "execution_count": null,
   "metadata": {},
   "outputs": [],
   "source": []
  },
  {
   "cell_type": "code",
   "execution_count": null,
   "metadata": {},
   "outputs": [],
   "source": []
  },
  {
   "cell_type": "code",
   "execution_count": null,
   "metadata": {},
   "outputs": [],
   "source": []
  },
  {
   "cell_type": "code",
   "execution_count": null,
   "metadata": {},
   "outputs": [],
   "source": []
  },
  {
   "cell_type": "code",
   "execution_count": null,
   "metadata": {},
   "outputs": [],
   "source": []
  }
 ],
 "metadata": {
  "kernelspec": {
   "display_name": "Python 3",
   "language": "python",
   "name": "python3"
  },
  "language_info": {
   "codemirror_mode": {
    "name": "ipython",
    "version": 3
   },
   "file_extension": ".py",
   "mimetype": "text/x-python",
   "name": "python",
   "nbconvert_exporter": "python",
   "pygments_lexer": "ipython3",
   "version": "3.7.6"
  }
 },
 "nbformat": 4,
 "nbformat_minor": 4
}
